{
 "cells": [
  {
   "cell_type": "code",
   "execution_count": 1,
   "metadata": {},
   "outputs": [],
   "source": [
    "# %matplotlib inline\n",
    "from matplotlib import style\n",
    "style.use('fivethirtyeight')\n",
    "import matplotlib.pyplot as plt"
   ]
  },
  {
   "cell_type": "code",
   "execution_count": 2,
   "metadata": {},
   "outputs": [],
   "source": [
    "import numpy as np\n",
    "import pandas as pd\n",
    "import datetime as dt\n",
    "from flask import Flask, jsonify"
   ]
  },
  {
   "cell_type": "markdown",
   "metadata": {},
   "source": [
    "# Reflect Tables into SQLAlchemy ORM"
   ]
  },
  {
   "cell_type": "code",
   "execution_count": 3,
   "metadata": {},
   "outputs": [],
   "source": [
    "# Python SQL toolkit and Object Relational Mapper\n",
    "import sqlalchemy\n",
    "from sqlalchemy.ext.automap import automap_base\n",
    "from sqlalchemy.orm import Session\n",
    "from sqlalchemy import create_engine, func"
   ]
  },
  {
   "cell_type": "code",
   "execution_count": 4,
   "metadata": {},
   "outputs": [],
   "source": [
    "# create engine to hawaii.sqlite\n",
    "engine=create_engine(\"sqlite:///Resources/hawaii.sqlite\")"
   ]
  },
  {
   "cell_type": "code",
   "execution_count": 5,
   "metadata": {},
   "outputs": [],
   "source": [
    "# reflect an existing database into a new model\n",
    "Base=automap_base()\n",
    "# reflect the tables\n",
    "Base.prepare(autoload_with=engine,reflect=True)"
   ]
  },
  {
   "cell_type": "code",
   "execution_count": 6,
   "metadata": {},
   "outputs": [
    {
     "data": {
      "text/plain": [
       "['measurement', 'station']"
      ]
     },
     "execution_count": 6,
     "metadata": {},
     "output_type": "execute_result"
    }
   ],
   "source": [
    "# View all of the classes that automap found\n",
    "Base.classes.keys()"
   ]
  },
  {
   "cell_type": "code",
   "execution_count": 7,
   "metadata": {},
   "outputs": [],
   "source": [
    "#keep for example then delete"
   ]
  },
  {
   "cell_type": "code",
   "execution_count": 8,
   "metadata": {},
   "outputs": [],
   "source": [
    "# Save references to each table\n",
    "Measurement=Base.classes.measurement\n",
    "Station=Base.classes.station"
   ]
  },
  {
   "cell_type": "code",
   "execution_count": 9,
   "metadata": {},
   "outputs": [],
   "source": [
    "# Create our session (link) from Python to the DB\n",
    "session=Session(engine)"
   ]
  },
  {
   "cell_type": "markdown",
   "metadata": {},
   "source": [
    "# Exploratory Precipitation Analysis"
   ]
  },
  {
   "cell_type": "code",
   "execution_count": 10,
   "metadata": {},
   "outputs": [
    {
     "name": "stdout",
     "output_type": "stream",
     "text": [
      "2017-08-23\n"
     ]
    }
   ],
   "source": [
    "# Find the most recent date in the data set.\n",
    "first_date=session.query(Measurement).order_by(sqlalchemy.desc(Measurement.date)).first().date\n",
    "# first=session.query(Measurement).first()\n",
    "# first.__dict__\n",
    "print(first_date)"
   ]
  },
  {
   "cell_type": "code",
   "execution_count": 11,
   "metadata": {},
   "outputs": [],
   "source": [
    "#keep for example then delete"
   ]
  },
  {
   "cell_type": "code",
   "execution_count": 18,
   "metadata": {},
   "outputs": [],
   "source": [
    "# Design a query to retrieve the last 12 months of precipitation data and plot the results.\n",
    "# Starting from the most recent data point in the database.\n",
    "most_recent=session.query(Measurement).order_by(sqlalchemy.desc(Measurement.date)).first().date\n",
    "most_recent=dt.datetime.strptime(most_recent,'%Y-%m-%d').date()\n",
    "# Calculate the date one year from the last date in data set.\n",
    "one_year_ago=most_recent-dt.timedelta(days=1*365)\n",
    "# Perform a query to retrieve the data and precipitation scores\n",
    "data=session.query(Measurement).filter(Measurement.date>=one_year_ago)\\\n",
    "    .with_entities(Measurement.date,Measurement.prcp)\n",
    "\n",
    "# app.app_context()\n",
    "# jsonify(data)\n",
    "# datadf=pd.DataFrame(data,columns=['date','precipitation'])\n",
    "# datadf=datadf.sort_values(by=['date'])\n",
    "# datadf=datadf.dropna(how='any')\n",
    "# datadf=datadf.set_index('date')\n",
    "# print(datadf)\n",
    "# jsonify(datadf)\n",
    "# plotdata=datadf.copy()\n",
    "# plotdata=plotdata.groupby('date').max()\n",
    "# plotdata=plotdata.reset_index()\n",
    "# fig,ax=plt.subplots()\n",
    "# width=1\n",
    "# ax.bar(plotdata['date'],plotdata['precipitation'], align='center', width=width)\n",
    "# fig.autofmt_xdate()\n",
    "# plt.setp(ax.get_xticklabels(), rotation = 75)\n",
    "# plt.show()"
   ]
  },
  {
   "cell_type": "code",
   "execution_count": 13,
   "metadata": {},
   "outputs": [
    {
     "name": "stdout",
     "output_type": "stream",
     "text": [
      "2016-12-01\n",
      "2015-12-02\n",
      "{'min': 58.0, 'max': 87.0, 'average': 73.76643706950533}\n"
     ]
    }
   ],
   "source": [
    "start='20161201'\n",
    "startdate=dt.datetime.strptime(start,'%Y%m%d').date()\n",
    "print(startdate)\n",
    "ma_one_year_ago=startdate-dt.timedelta(days=1*365)\n",
    "print(ma_one_year_ago)\n",
    "ma_dates_temps=session.query(Measurement)\\\n",
    ".filter(Measurement.date>=startdate)\\\n",
    ".with_entities(Measurement.tobs)\n",
    "ma_dt_df=pd.DataFrame(ma_dates_temps)\n",
    "#if len(ma_dt_df)==0: return \"No data!\"\n",
    "adict={'min':ma_dt_df.min()[0],'max':ma_dt_df.max()[0],'average':ma_dt_df.mean()[0]}\n",
    "print(adict)"
   ]
  },
  {
   "cell_type": "code",
   "execution_count": 50,
   "metadata": {},
   "outputs": [
    {
     "data": {
      "text/html": [
       "<div>\n",
       "<style scoped>\n",
       "    .dataframe tbody tr th:only-of-type {\n",
       "        vertical-align: middle;\n",
       "    }\n",
       "\n",
       "    .dataframe tbody tr th {\n",
       "        vertical-align: top;\n",
       "    }\n",
       "\n",
       "    .dataframe thead th {\n",
       "        text-align: right;\n",
       "    }\n",
       "</style>\n",
       "<table border=\"1\" class=\"dataframe\">\n",
       "  <thead>\n",
       "    <tr style=\"text-align: right;\">\n",
       "      <th></th>\n",
       "      <th>precipitation</th>\n",
       "    </tr>\n",
       "  </thead>\n",
       "  <tbody>\n",
       "    <tr>\n",
       "      <th>count</th>\n",
       "      <td>2021.000000</td>\n",
       "    </tr>\n",
       "    <tr>\n",
       "      <th>mean</th>\n",
       "      <td>0.177279</td>\n",
       "    </tr>\n",
       "    <tr>\n",
       "      <th>std</th>\n",
       "      <td>0.461190</td>\n",
       "    </tr>\n",
       "    <tr>\n",
       "      <th>min</th>\n",
       "      <td>0.000000</td>\n",
       "    </tr>\n",
       "    <tr>\n",
       "      <th>25%</th>\n",
       "      <td>0.000000</td>\n",
       "    </tr>\n",
       "    <tr>\n",
       "      <th>50%</th>\n",
       "      <td>0.020000</td>\n",
       "    </tr>\n",
       "    <tr>\n",
       "      <th>75%</th>\n",
       "      <td>0.130000</td>\n",
       "    </tr>\n",
       "    <tr>\n",
       "      <th>max</th>\n",
       "      <td>6.700000</td>\n",
       "    </tr>\n",
       "  </tbody>\n",
       "</table>\n",
       "</div>"
      ],
      "text/plain": [
       "       precipitation\n",
       "count    2021.000000\n",
       "mean        0.177279\n",
       "std         0.461190\n",
       "min         0.000000\n",
       "25%         0.000000\n",
       "50%         0.020000\n",
       "75%         0.130000\n",
       "max         6.700000"
      ]
     },
     "execution_count": 50,
     "metadata": {},
     "output_type": "execute_result"
    }
   ],
   "source": [
    "# Use Pandas to calculate the summary statistics for the precipitation data\n",
    "datadf.describe()"
   ]
  },
  {
   "cell_type": "markdown",
   "metadata": {},
   "source": [
    "# Exploratory Station Analysis"
   ]
  },
  {
   "cell_type": "code",
   "execution_count": 86,
   "metadata": {},
   "outputs": [
    {
     "name": "stdout",
     "output_type": "stream",
     "text": [
      "9\n"
     ]
    }
   ],
   "source": [
    "# Design a query to calculate the total number of stations in the dataset\n",
    "# stations=session.query(Station)\n",
    "# for s in stations:\n",
    "#     print(s.__dict__)\n",
    "station_count=session.query(Station).with_entities(Station.id).count()\n",
    "print(station_count)"
   ]
  },
  {
   "cell_type": "code",
   "execution_count": 118,
   "metadata": {},
   "outputs": [
    {
     "name": "stdout",
     "output_type": "stream",
     "text": [
      "('USC00519281', 2772)\n",
      "('USC00519397', 2724)\n",
      "('USC00513117', 2709)\n",
      "('USC00519523', 2669)\n",
      "('USC00516128', 2612)\n",
      "('USC00514830', 2202)\n",
      "('USC00511918', 1979)\n",
      "('USC00517948', 1372)\n",
      "('USC00518838', 511)\n"
     ]
    }
   ],
   "source": [
    "# Design a query to find the most active stations (i.e. which stations have the most rows?)\n",
    "# List the stations and their counts in descending order.\n",
    "stations=session.query(Measurement.station,func.count(Measurement.station))\\\n",
    ".group_by(Measurement.station)\\\n",
    ".order_by(func.count(Measurement.station).desc())\n",
    "for s in stations:\n",
    "    print(s)"
   ]
  },
  {
   "cell_type": "code",
   "execution_count": 139,
   "metadata": {},
   "outputs": [
    {
     "name": "stdout",
     "output_type": "stream",
     "text": [
      "lowest:  54.0\n",
      "highest:  85.0\n",
      "average:  71.66378066378067\n"
     ]
    }
   ],
   "source": [
    "# Using the most active station id from the previous query, calculate the lowest, highest, and average temperature.\n",
    "most_active_id=stations[0][0]\n",
    "ma_temps=session.query(Measurement)\\\n",
    ".filter(Measurement.station==most_active_id)\\\n",
    ".with_entities(Measurement.tobs)\n",
    "ma_df=pd.DataFrame(ma_temps,columns=['temperature'])\n",
    "lowest=ma_df['temperature'].min()\n",
    "highest=ma_df['temperature'].max()\n",
    "average=ma_df['temperature'].mean()\n",
    "print('lowest: ',lowest)\n",
    "print('highest: ',highest)\n",
    "print('average: ',average)"
   ]
  },
  {
   "cell_type": "code",
   "execution_count": 150,
   "metadata": {},
   "outputs": [
    {
     "name": "stdout",
     "output_type": "stream",
     "text": [
      "2017-08-18\n",
      "2016-08-18\n"
     ]
    },
    {
     "data": {
      "image/png": "[encoded data removed]",
      "text/plain": [
       "<Figure size 640x480 with 1 Axes>"
      ]
     },
     "metadata": {},
     "output_type": "display_data"
    }
   ],
   "source": [
    "# Using the most active station id\n",
    "# Query the last 12 months of temperature observation data for this station and plot the results as a histogram\n",
    "ma_most_recent=session.query(Measurement)\\\n",
    ".filter(Measurement.station==most_active_id)\\\n",
    ".order_by(sqlalchemy.desc(Measurement.date)).first().date\n",
    "ma_most_recent=dt.datetime.strptime(ma_most_recent,'%Y-%m-%d').date()\n",
    "print(ma_most_recent)\n",
    "ma_one_year_ago=ma_most_recent-dt.timedelta(days=1*365)\n",
    "print(ma_one_year_ago)\n",
    "# for d in ma_most_recent:\n",
    "#     print(d)\n",
    "\n",
    "ma_dates_temps=session.query(Measurement)\\\n",
    ".filter(Measurement.station==most_active_id)\\\n",
    ".filter(Measurement.date>=ma_one_year_ago)\\\n",
    ".with_entities(Measurement.date,Measurement.tobs)\n",
    "ma_dt_df=pd.DataFrame(ma_dates_temps)\n",
    "# for d in ma_dates_temps:\n",
    "#     print(d)\n",
    "# ma_dt_df.head()\n",
    "# ma_most_recent=session.query(Measurement).order_by(sqlalchemy.desc(Measurement.date)).first().date\n",
    "# most_recent=dt.datetime.strptime(most_recent,'%Y-%m-%d').date()\n",
    "# # Calculate the date one year from the last date in data set.\n",
    "# one_year_ago=most_recent-dt.timedelta(days=1*365)\n",
    "\n",
    "fig,ax=plt.subplots()\n",
    "# ax.bar(np.arange(counts.size), counts, align='center', width=1.0)\n",
    "# width=np.diff(plotdata['date']).min()\n",
    "width=1\n",
    "# ax.bar(plotdata['date'],plotdata['precipitation'], align='center', width=width)\n",
    "ax.hist(ma_dt_df['tobs'])\n",
    "# ax.xaxis_date()\n",
    "fig.autofmt_xdate()\n",
    "# plt.xlim(0,10)\n",
    "plt.setp(ax.get_xticklabels(), rotation = 75)\n",
    "plt.show()"
   ]
  },
  {
   "cell_type": "markdown",
   "metadata": {},
   "source": [
    "# Close Session"
   ]
  },
  {
   "cell_type": "code",
   "execution_count": null,
   "metadata": {},
   "outputs": [],
   "source": [
    "# Close Session\n",
    "session.close()"
   ]
  },
  {
   "cell_type": "code",
   "execution_count": null,
   "metadata": {},
   "outputs": [],
   "source": []
  }
 ],
 "metadata": {
  "anaconda-cloud": {},
  "kernel_info": {
   "name": "python3"
  },
  "kernelspec": {
   "display_name": "Python 3 (ipykernel)",
   "language": "python",
   "name": "python3"
  },
  "language_info": {
   "codemirror_mode": {
    "name": "ipython",
    "version": 3
   },
   "file_extension": ".py",
   "mimetype": "text/x-python",
   "name": "python",
   "nbconvert_exporter": "python",
   "pygments_lexer": "ipython3",
   "version": "3.10.11"
  },
  "nteract": {
   "version": "0.12.3"
  },
  "varInspector": {
   "cols": {
    "lenName": 16,
    "lenType": 16,
    "lenVar": 40
   },
   "kernels_config": {
    "python": {
     "delete_cmd_postfix": "",
     "delete_cmd_prefix": "del ",
     "library": "var_list.py",
     "varRefreshCmd": "print(var_dic_list())"
    },
    "r": {
     "delete_cmd_postfix": ") ",
     "delete_cmd_prefix": "rm(",
     "library": "var_list.r",
     "varRefreshCmd": "cat(var_dic_list()) "
    }
   },
   "types_to_exclude": [
    "module",
    "function",
    "builtin_function_or_method",
    "instance",
    "_Feature"
   ],
   "window_display": false
  }
 },
 "nbformat": 4,
 "nbformat_minor": 2
}
